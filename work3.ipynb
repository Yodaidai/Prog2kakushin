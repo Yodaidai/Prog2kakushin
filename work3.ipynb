{
  "nbformat": 4,
  "nbformat_minor": 0,
  "metadata": {
    "colab": {
      "provenance": [],
      "include_colab_link": true
    },
    "kernelspec": {
      "name": "python3",
      "display_name": "Python 3"
    },
    "language_info": {
      "name": "python"
    }
  },
  "cells": [
    {
      "cell_type": "markdown",
      "metadata": {
        "id": "view-in-github",
        "colab_type": "text"
      },
      "source": [
        "<a href=\"https://colab.research.google.com/github/Yodaidai/Prog2kakushin/blob/main/work3.ipynb\" target=\"_parent\"><img src=\"https://colab.research.google.com/assets/colab-badge.svg\" alt=\"Open In Colab\"/></a>"
      ]
    },
    {
      "cell_type": "markdown",
      "source": [
        "OpenCVで図形を描画して、今年のサッカーワールドカップの決勝戦の組み合わせである、フランス対アルゼンチンを表現する。"
      ],
      "metadata": {
        "id": "XZy7YGiT09zh"
      }
    },
    {
      "cell_type": "markdown",
      "source": [
        "まず、numry・OpenCVライブラリを使ったり、Colab環境で画像を表示するための準備をしておく。ついでに、エラーが起きた場合の処理を行うための準備もしておく。"
      ],
      "metadata": {
        "id": "IVBeFbRZotNw"
      }
    },
    {
      "cell_type": "code",
      "source": [
        "import numpy as np\n",
        "import sys\n",
        "import cv2\n",
        "from google.colab.patches import cv2_imshow"
      ],
      "metadata": {
        "id": "rFCvxaBjnM5b"
      },
      "execution_count": 1,
      "outputs": []
    },
    {
      "cell_type": "markdown",
      "source": [
        "次に、描画するための白色の画像を新規作成し、描画する範囲を枠線で定めておく。\n",
        "枠線の色は黒にしておく。"
      ],
      "metadata": {
        "id": "ZUBBNXw6p0so"
      }
    },
    {
      "cell_type": "code",
      "source": [
        "img = np.zeros( (300, 500, 3), np.uint8 ) \n",
        "img.fill( 255 )\n",
        "cv2.rectangle(img, (10,  10), (490, 290), color=(0, 0, 0))\n",
        "cv2_imshow(img)"
      ],
      "metadata": {
        "id": "dIla16OzrpQP",
        "outputId": "11d26d69-8654-4976-d626-38f8bb0546fd",
        "colab": {
          "base_uri": "https://localhost:8080/",
          "height": 317
        }
      },
      "execution_count": 2,
      "outputs": [
        {
          "output_type": "display_data",
          "data": {
            "text/plain": [
              "<PIL.Image.Image image mode=RGB size=500x300 at 0x7F1A359306A0>"
            ],
            "image/png": "[encoded data removed]"
          },
          "metadata": {}
        }
      ]
    },
    {
      "cell_type": "markdown",
      "source": [
        "同じように、フランスとアルゼンチンの国旗を描画するための黒の枠線を記入しておく。"
      ],
      "metadata": {
        "id": "1DeaUtrUtd_H"
      }
    },
    {
      "cell_type": "code",
      "source": [
        "img = np.zeros( (300, 500, 3), np.uint8 ) \n",
        "img.fill( 255 )\n",
        "cv2.rectangle(img, (10,  10), (490, 290), color=(0, 0, 0))\n",
        "\n",
        "cv2.rectangle(img, (20,  100), (170, 200), color=(0, 0, 0)) #追加したコード\n",
        "cv2.rectangle(img, (330,  100), (480, 200), color=(0, 0, 0)) #追加したコード\n",
        "\n",
        "cv2_imshow(img)"
      ],
      "metadata": {
        "id": "GG3uKbxouE1u",
        "outputId": "bba00d87-623c-4b3b-d6ec-9a35a82684e1",
        "colab": {
          "base_uri": "https://localhost:8080/",
          "height": 317
        }
      },
      "execution_count": 3,
      "outputs": [
        {
          "output_type": "display_data",
          "data": {
            "text/plain": [
              "<PIL.Image.Image image mode=RGB size=500x300 at 0x7F1A293648E0>"
            ],
            "image/png": "[encoded data removed]"
          },
          "metadata": {}
        }
      ]
    },
    {
      "cell_type": "markdown",
      "source": [
        "それでは、実際にフランスとアルゼンチンの国旗を簡易的に描画していく。\n",
        "描画にあたっては、細かい部分はOpenCVの様々な図形を描く関数を用いて作成していく。"
      ],
      "metadata": {
        "id": "ZymRgXYzvytg"
      }
    },
    {
      "cell_type": "code",
      "source": [
        "img = np.zeros( (300, 500, 3), np.uint8 ) \n",
        "img.fill( 255 )\n",
        "cv2.rectangle(img, (10,  10), (490, 290), color=(0, 0, 0))\n",
        "cv2.rectangle(img, (20,  100), (170, 200), color=(0, 0, 0)) \n",
        "cv2.rectangle(img, (330,  100), (480, 200), color=(0, 0, 0)) \n",
        "\n",
        "cv2.rectangle(img, (20,  100), (70, 200), color=(255, 0, 0), thickness=-1) #追加したコード\n",
        "cv2.rectangle(img, (20,  100), (70, 200), color=(0, 0, 0))#追加したコード\n",
        "cv2.rectangle(img, (120,  100), (170, 200), color=(0, 0, 255), thickness=-1) #追加したコード\n",
        "cv2.rectangle(img, (120,  100), (170, 200), color=(0, 0, 0))#追加したコード\n",
        "cv2.rectangle(img, (330,  100), (480, 133), color=(255, 200, 100), thickness=-1) #追加したコード\n",
        "cv2.rectangle(img, (330,  100), (480, 133), color=(0, 0, 0)) #追加したコード\n",
        "cv2.rectangle(img, (330,  167), (480, 200), color=(255, 200, 100), thickness=-1) #追加したコード\n",
        "cv2.rectangle(img, (330,  167), (480, 200), color=(0, 0, 0)) #追加したコード\n",
        "cv2.circle(img,center=(405, 150),radius=7,color=(0, 255, 255),thickness=-1,lineType=cv2.LINE_4,shift=0)#追加したコード\n",
        "cv2.line(img,pt1=(398, 150),pt2=(392, 150),color=(0, 255, 255),thickness=1,lineType=cv2.LINE_4,shift=0)#追加したコード\n",
        "cv2.line(img,pt1=(405, 143),pt2=(405, 137),color=(0, 255, 255),thickness=1,lineType=cv2.LINE_4,shift=0)#追加したコード\n",
        "cv2.line(img,pt1=(412, 150),pt2=(418, 150),color=(0, 255, 255),thickness=1,lineType=cv2.LINE_4,shift=0)#追加したコード\n",
        "cv2.line(img,pt1=(405, 157),pt2=(405, 163),color=(0, 255, 255),thickness=1,lineType=cv2.LINE_4,shift=0)#追加したコード\n",
        "cv2.line(img,pt1=(395, 140),pt2=(416, 160),color=(0, 255, 255),thickness=1,lineType=cv2.LINE_4,shift=0)#追加したコード\n",
        "cv2.line(img,pt1=(395, 160),pt2=(416, 140),color=(0, 255, 255),thickness=1,lineType=cv2.LINE_4,shift=0)#追加したコード\n",
        "\n",
        "cv2_imshow(img)"
      ],
      "metadata": {
        "id": "gpOv4zbZCmnP",
        "outputId": "d53525e9-23cb-40d6-99ed-899ec83a8493",
        "colab": {
          "base_uri": "https://localhost:8080/",
          "height": 317
        }
      },
      "execution_count": 4,
      "outputs": [
        {
          "output_type": "display_data",
          "data": {
            "text/plain": [
              "<PIL.Image.Image image mode=RGB size=500x300 at 0x7F1A29317CA0>"
            ],
            "image/png": "[encoded data removed]"
          },
          "metadata": {}
        }
      ]
    },
    {
      "cell_type": "markdown",
      "source": [
        "以上より、それぞれの国旗を書くことが出来た。"
      ],
      "metadata": {
        "id": "bchuhiBHC_cr"
      }
    },
    {
      "cell_type": "markdown",
      "source": [
        "最後に、試合情報と結果をOpenCVの関数を用いて記入する。"
      ],
      "metadata": {
        "id": "OXmTCS6tDG30"
      }
    },
    {
      "cell_type": "code",
      "source": [
        "img = np.zeros( (300, 500, 3), np.uint8 ) \n",
        "img.fill( 255 )\n",
        "cv2.rectangle(img, (10,  10), (490, 290), color=(0, 0, 0))\n",
        "cv2.rectangle(img, (20,  100), (170, 200), color=(0, 0, 0)) \n",
        "cv2.rectangle(img, (330,  100), (480, 200), color=(0, 0, 0)) \n",
        "\n",
        "cv2.rectangle(img, (20,  100), (70, 200), color=(255, 0, 0), thickness=-1) \n",
        "cv2.rectangle(img, (20,  100), (70, 200), color=(0, 0, 0))\n",
        "cv2.rectangle(img, (120,  100), (170, 200), color=(0, 0, 255), thickness=-1) \n",
        "cv2.rectangle(img, (120,  100), (170, 200), color=(0, 0, 0))\n",
        "cv2.rectangle(img, (330,  100), (480, 133), color=(255, 200, 100), thickness=-1) \n",
        "cv2.rectangle(img, (330,  100), (480, 133), color=(0, 0, 0)) \n",
        "cv2.rectangle(img, (330,  167), (480, 200), color=(255, 200, 100), thickness=-1) \n",
        "cv2.rectangle(img, (330,  167), (480, 200), color=(0, 0, 0)) \n",
        "cv2.circle(img,center=(405, 150),radius=7,color=(0, 255, 255),thickness=-1,lineType=cv2.LINE_4,shift=0)\n",
        "cv2.line(img,pt1=(398, 150),pt2=(392, 150),color=(0, 255, 255),thickness=1,lineType=cv2.LINE_4,shift=0)\n",
        "cv2.line(img,pt1=(405, 143),pt2=(405, 137),color=(0, 255, 255),thickness=1,lineType=cv2.LINE_4,shift=0)\n",
        "cv2.line(img,pt1=(412, 150),pt2=(418, 150),color=(0, 255, 255),thickness=1,lineType=cv2.LINE_4,shift=0)\n",
        "cv2.line(img,pt1=(405, 157),pt2=(405, 163),color=(0, 255, 255),thickness=1,lineType=cv2.LINE_4,shift=0)\n",
        "cv2.line(img,pt1=(395, 140),pt2=(416, 160),color=(0, 255, 255),thickness=1,lineType=cv2.LINE_4,shift=0)\n",
        "cv2.line(img,pt1=(395, 160),pt2=(416, 140),color=(0, 255, 255),thickness=1,lineType=cv2.LINE_4,shift=0)\n",
        "\n",
        "cv2.putText(img,text='2022 FIFA World Cup',org=(70, 70),fontFace=cv2.FONT_HERSHEY_TRIPLEX,fontScale=1.0,color=(255, 0, 0),thickness=2,lineType=cv2.LINE_4)#追加したコード\n",
        "cv2.putText(img,text='Final game',org=(150, 250),fontFace=cv2.FONT_HERSHEY_TRIPLEX,fontScale=1.0,color=(0, 0, 255),thickness=2,lineType=cv2.LINE_4)#追加したコード\n",
        "cv2.putText(img,text='3-3',org=(215, 160),fontFace=cv2.FONT_HERSHEY_TRIPLEX,fontScale=1.0,color=(0, 0, 0),thickness=2,lineType=cv2.LINE_4)#追加したコード\n",
        "cv2.putText(img,text='PK:2-4',org=(207, 190),fontFace=cv2.FONT_HERSHEY_COMPLEX_SMALL,fontScale=1.0,color=(0, 0, 0),thickness=2,lineType=cv2.LINE_4)#追加したコード\n",
        "\n",
        "cv2_imshow(img)"
      ],
      "metadata": {
        "id": "ivw7bERax2Lx",
        "outputId": "a5ea95ba-2ab6-4fc5-89d9-604c2e45c423",
        "colab": {
          "base_uri": "https://localhost:8080/",
          "height": 317
        }
      },
      "execution_count": 5,
      "outputs": [
        {
          "output_type": "display_data",
          "data": {
            "text/plain": [
              "<PIL.Image.Image image mode=RGB size=500x300 at 0x7F1A292CA610>"
            ],
            "image/png": "[encoded data removed]"
          },
          "metadata": {}
        }
      ]
    },
    {
      "cell_type": "markdown",
      "source": [
        "以上で終了する。次のワールドカップも楽しみだ。"
      ],
      "metadata": {
        "id": "ciizN3N5DghP"
      }
    }
  ]
}